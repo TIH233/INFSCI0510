{
 "cells": [
  {
   "cell_type": "markdown",
   "metadata": {},
   "source": [
    "## This is a data analysis file to complete rough descriptive statistics of the dataset"
   ]
  },
  {
   "cell_type": "code",
   "execution_count": 47,
   "metadata": {},
   "outputs": [],
   "source": [
    "import pandas as pd\n",
    "import numpy as np\n",
    "import matplotlib.pyplot as plt\n",
    "import seaborn as sns\n",
    "import sklearn as sk\n",
    "import sklearn.preprocessing as skp\n",
    "import os\n",
    "from pathlib import Path"
   ]
  },
  {
   "cell_type": "code",
   "execution_count": 48,
   "metadata": {},
   "outputs": [
    {
     "name": "stdout",
     "output_type": "stream",
     "text": [
      "<class 'pandas.core.frame.DataFrame'>\n",
      "RangeIndex: 484551 entries, 0 to 484550\n",
      "Data columns (total 29 columns):\n",
      " #   Column             Non-Null Count   Dtype \n",
      "---  ------             --------------   ----- \n",
      " 0   DayOfWeek          484551 non-null  int64 \n",
      " 1   Date               484551 non-null  object\n",
      " 2   DepTime            484551 non-null  int64 \n",
      " 3   ArrTime            484551 non-null  int64 \n",
      " 4   CRSArrTime         484551 non-null  int64 \n",
      " 5   UniqueCarrier      484551 non-null  object\n",
      " 6   Airline            484551 non-null  object\n",
      " 7   FlightNum          484551 non-null  int64 \n",
      " 8   TailNum            484551 non-null  object\n",
      " 9   ActualElapsedTime  484551 non-null  int64 \n",
      " 10  CRSElapsedTime     484551 non-null  int64 \n",
      " 11  AirTime            484551 non-null  int64 \n",
      " 12  ArrDelay           484551 non-null  int64 \n",
      " 13  DepDelay           484551 non-null  int64 \n",
      " 14  Origin             484551 non-null  object\n",
      " 15  Org_Airport        483374 non-null  object\n",
      " 16  Dest               484551 non-null  object\n",
      " 17  Dest_Airport       483072 non-null  object\n",
      " 18  Distance           484551 non-null  int64 \n",
      " 19  TaxiIn             484551 non-null  int64 \n",
      " 20  TaxiOut            484551 non-null  int64 \n",
      " 21  Cancelled          484551 non-null  int64 \n",
      " 22  CancellationCode   484551 non-null  object\n",
      " 23  Diverted           484551 non-null  int64 \n",
      " 24  CarrierDelay       484551 non-null  int64 \n",
      " 25  WeatherDelay       484551 non-null  int64 \n",
      " 26  NASDelay           484551 non-null  int64 \n",
      " 27  SecurityDelay      484551 non-null  int64 \n",
      " 28  LateAircraftDelay  484551 non-null  int64 \n",
      "dtypes: int64(20), object(9)\n",
      "memory usage: 107.2+ MB\n"
     ]
    }
   ],
   "source": [
    "project_root =  Path(os.getcwd()).parent\n",
    "file_path = project_root/ 'Data'/ 'Flight_delay.csv'\n",
    "df = pd.read_csv(file_path) # most robust way to define\n",
    "\n",
    "df.info()"
   ]
  },
  {
   "cell_type": "code",
   "execution_count": 49,
   "metadata": {},
   "outputs": [
    {
     "data": {
      "text/html": [
       "<div>\n",
       "<style scoped>\n",
       "    .dataframe tbody tr th:only-of-type {\n",
       "        vertical-align: middle;\n",
       "    }\n",
       "\n",
       "    .dataframe tbody tr th {\n",
       "        vertical-align: top;\n",
       "    }\n",
       "\n",
       "    .dataframe thead th {\n",
       "        text-align: right;\n",
       "    }\n",
       "</style>\n",
       "<table border=\"1\" class=\"dataframe\">\n",
       "  <thead>\n",
       "    <tr style=\"text-align: right;\">\n",
       "      <th></th>\n",
       "      <th>DayOfWeek</th>\n",
       "      <th>DepTime</th>\n",
       "      <th>ArrTime</th>\n",
       "      <th>CRSArrTime</th>\n",
       "      <th>FlightNum</th>\n",
       "      <th>ActualElapsedTime</th>\n",
       "      <th>CRSElapsedTime</th>\n",
       "      <th>AirTime</th>\n",
       "      <th>ArrDelay</th>\n",
       "      <th>DepDelay</th>\n",
       "      <th>Distance</th>\n",
       "      <th>TaxiIn</th>\n",
       "      <th>TaxiOut</th>\n",
       "      <th>Cancelled</th>\n",
       "      <th>Diverted</th>\n",
       "      <th>CarrierDelay</th>\n",
       "      <th>WeatherDelay</th>\n",
       "      <th>NASDelay</th>\n",
       "      <th>SecurityDelay</th>\n",
       "      <th>LateAircraftDelay</th>\n",
       "    </tr>\n",
       "  </thead>\n",
       "  <tbody>\n",
       "    <tr>\n",
       "      <th>count</th>\n",
       "      <td>484551.000000</td>\n",
       "      <td>484551.000000</td>\n",
       "      <td>484551.000000</td>\n",
       "      <td>484551.000000</td>\n",
       "      <td>484551.000000</td>\n",
       "      <td>484551.000000</td>\n",
       "      <td>484551.000000</td>\n",
       "      <td>484551.000000</td>\n",
       "      <td>484551.000000</td>\n",
       "      <td>484551.000000</td>\n",
       "      <td>484551.000000</td>\n",
       "      <td>484551.000000</td>\n",
       "      <td>484551.000000</td>\n",
       "      <td>484551.0</td>\n",
       "      <td>484551.0</td>\n",
       "      <td>484551.000000</td>\n",
       "      <td>484551.000000</td>\n",
       "      <td>484551.000000</td>\n",
       "      <td>484551.000000</td>\n",
       "      <td>484551.000000</td>\n",
       "    </tr>\n",
       "    <tr>\n",
       "      <th>mean</th>\n",
       "      <td>3.991605</td>\n",
       "      <td>1564.477865</td>\n",
       "      <td>1617.784438</td>\n",
       "      <td>1652.129929</td>\n",
       "      <td>2139.207386</td>\n",
       "      <td>134.810422</td>\n",
       "      <td>131.400761</td>\n",
       "      <td>108.877134</td>\n",
       "      <td>60.907764</td>\n",
       "      <td>57.498086</td>\n",
       "      <td>752.142689</td>\n",
       "      <td>6.782413</td>\n",
       "      <td>19.150876</td>\n",
       "      <td>0.0</td>\n",
       "      <td>0.0</td>\n",
       "      <td>17.419440</td>\n",
       "      <td>3.153284</td>\n",
       "      <td>13.599421</td>\n",
       "      <td>0.082033</td>\n",
       "      <td>26.653587</td>\n",
       "    </tr>\n",
       "    <tr>\n",
       "      <th>std</th>\n",
       "      <td>1.971466</td>\n",
       "      <td>452.235219</td>\n",
       "      <td>583.637660</td>\n",
       "      <td>466.096216</td>\n",
       "      <td>1812.677071</td>\n",
       "      <td>74.070374</td>\n",
       "      <td>71.542531</td>\n",
       "      <td>70.113513</td>\n",
       "      <td>56.975420</td>\n",
       "      <td>55.991012</td>\n",
       "      <td>571.631124</td>\n",
       "      <td>5.555816</td>\n",
       "      <td>15.309747</td>\n",
       "      <td>0.0</td>\n",
       "      <td>0.0</td>\n",
       "      <td>39.417893</td>\n",
       "      <td>19.503657</td>\n",
       "      <td>31.454655</td>\n",
       "      <td>1.884774</td>\n",
       "      <td>40.535994</td>\n",
       "    </tr>\n",
       "    <tr>\n",
       "      <th>min</th>\n",
       "      <td>1.000000</td>\n",
       "      <td>1.000000</td>\n",
       "      <td>1.000000</td>\n",
       "      <td>1.000000</td>\n",
       "      <td>1.000000</td>\n",
       "      <td>15.000000</td>\n",
       "      <td>-21.000000</td>\n",
       "      <td>0.000000</td>\n",
       "      <td>15.000000</td>\n",
       "      <td>6.000000</td>\n",
       "      <td>31.000000</td>\n",
       "      <td>0.000000</td>\n",
       "      <td>0.000000</td>\n",
       "      <td>0.0</td>\n",
       "      <td>0.0</td>\n",
       "      <td>0.000000</td>\n",
       "      <td>0.000000</td>\n",
       "      <td>0.000000</td>\n",
       "      <td>0.000000</td>\n",
       "      <td>0.000000</td>\n",
       "    </tr>\n",
       "    <tr>\n",
       "      <th>25%</th>\n",
       "      <td>2.000000</td>\n",
       "      <td>1234.000000</td>\n",
       "      <td>1327.000000</td>\n",
       "      <td>1339.000000</td>\n",
       "      <td>629.000000</td>\n",
       "      <td>80.000000</td>\n",
       "      <td>79.000000</td>\n",
       "      <td>57.000000</td>\n",
       "      <td>25.000000</td>\n",
       "      <td>23.000000</td>\n",
       "      <td>331.000000</td>\n",
       "      <td>4.000000</td>\n",
       "      <td>11.000000</td>\n",
       "      <td>0.0</td>\n",
       "      <td>0.0</td>\n",
       "      <td>0.000000</td>\n",
       "      <td>0.000000</td>\n",
       "      <td>0.000000</td>\n",
       "      <td>0.000000</td>\n",
       "      <td>0.000000</td>\n",
       "    </tr>\n",
       "    <tr>\n",
       "      <th>50%</th>\n",
       "      <td>4.000000</td>\n",
       "      <td>1620.000000</td>\n",
       "      <td>1737.000000</td>\n",
       "      <td>1723.000000</td>\n",
       "      <td>1514.000000</td>\n",
       "      <td>116.000000</td>\n",
       "      <td>114.000000</td>\n",
       "      <td>90.000000</td>\n",
       "      <td>42.000000</td>\n",
       "      <td>40.000000</td>\n",
       "      <td>599.000000</td>\n",
       "      <td>5.000000</td>\n",
       "      <td>15.000000</td>\n",
       "      <td>0.0</td>\n",
       "      <td>0.0</td>\n",
       "      <td>2.000000</td>\n",
       "      <td>0.000000</td>\n",
       "      <td>1.000000</td>\n",
       "      <td>0.000000</td>\n",
       "      <td>13.000000</td>\n",
       "    </tr>\n",
       "    <tr>\n",
       "      <th>75%</th>\n",
       "      <td>6.000000</td>\n",
       "      <td>1928.000000</td>\n",
       "      <td>2049.000000</td>\n",
       "      <td>2025.000000</td>\n",
       "      <td>3683.000000</td>\n",
       "      <td>168.000000</td>\n",
       "      <td>162.000000</td>\n",
       "      <td>139.000000</td>\n",
       "      <td>76.000000</td>\n",
       "      <td>72.000000</td>\n",
       "      <td>992.000000</td>\n",
       "      <td>8.000000</td>\n",
       "      <td>22.000000</td>\n",
       "      <td>0.0</td>\n",
       "      <td>0.0</td>\n",
       "      <td>19.000000</td>\n",
       "      <td>0.000000</td>\n",
       "      <td>13.000000</td>\n",
       "      <td>0.000000</td>\n",
       "      <td>36.000000</td>\n",
       "    </tr>\n",
       "    <tr>\n",
       "      <th>max</th>\n",
       "      <td>7.000000</td>\n",
       "      <td>2400.000000</td>\n",
       "      <td>2400.000000</td>\n",
       "      <td>2359.000000</td>\n",
       "      <td>8403.000000</td>\n",
       "      <td>727.000000</td>\n",
       "      <td>602.000000</td>\n",
       "      <td>609.000000</td>\n",
       "      <td>1707.000000</td>\n",
       "      <td>1710.000000</td>\n",
       "      <td>4502.000000</td>\n",
       "      <td>207.000000</td>\n",
       "      <td>383.000000</td>\n",
       "      <td>0.0</td>\n",
       "      <td>0.0</td>\n",
       "      <td>1707.000000</td>\n",
       "      <td>1148.000000</td>\n",
       "      <td>1357.000000</td>\n",
       "      <td>392.000000</td>\n",
       "      <td>1254.000000</td>\n",
       "    </tr>\n",
       "  </tbody>\n",
       "</table>\n",
       "</div>"
      ],
      "text/plain": [
       "           DayOfWeek        DepTime        ArrTime     CRSArrTime  \\\n",
       "count  484551.000000  484551.000000  484551.000000  484551.000000   \n",
       "mean        3.991605    1564.477865    1617.784438    1652.129929   \n",
       "std         1.971466     452.235219     583.637660     466.096216   \n",
       "min         1.000000       1.000000       1.000000       1.000000   \n",
       "25%         2.000000    1234.000000    1327.000000    1339.000000   \n",
       "50%         4.000000    1620.000000    1737.000000    1723.000000   \n",
       "75%         6.000000    1928.000000    2049.000000    2025.000000   \n",
       "max         7.000000    2400.000000    2400.000000    2359.000000   \n",
       "\n",
       "           FlightNum  ActualElapsedTime  CRSElapsedTime        AirTime  \\\n",
       "count  484551.000000      484551.000000   484551.000000  484551.000000   \n",
       "mean     2139.207386         134.810422      131.400761     108.877134   \n",
       "std      1812.677071          74.070374       71.542531      70.113513   \n",
       "min         1.000000          15.000000      -21.000000       0.000000   \n",
       "25%       629.000000          80.000000       79.000000      57.000000   \n",
       "50%      1514.000000         116.000000      114.000000      90.000000   \n",
       "75%      3683.000000         168.000000      162.000000     139.000000   \n",
       "max      8403.000000         727.000000      602.000000     609.000000   \n",
       "\n",
       "            ArrDelay       DepDelay       Distance         TaxiIn  \\\n",
       "count  484551.000000  484551.000000  484551.000000  484551.000000   \n",
       "mean       60.907764      57.498086     752.142689       6.782413   \n",
       "std        56.975420      55.991012     571.631124       5.555816   \n",
       "min        15.000000       6.000000      31.000000       0.000000   \n",
       "25%        25.000000      23.000000     331.000000       4.000000   \n",
       "50%        42.000000      40.000000     599.000000       5.000000   \n",
       "75%        76.000000      72.000000     992.000000       8.000000   \n",
       "max      1707.000000    1710.000000    4502.000000     207.000000   \n",
       "\n",
       "             TaxiOut  Cancelled  Diverted   CarrierDelay   WeatherDelay  \\\n",
       "count  484551.000000   484551.0  484551.0  484551.000000  484551.000000   \n",
       "mean       19.150876        0.0       0.0      17.419440       3.153284   \n",
       "std        15.309747        0.0       0.0      39.417893      19.503657   \n",
       "min         0.000000        0.0       0.0       0.000000       0.000000   \n",
       "25%        11.000000        0.0       0.0       0.000000       0.000000   \n",
       "50%        15.000000        0.0       0.0       2.000000       0.000000   \n",
       "75%        22.000000        0.0       0.0      19.000000       0.000000   \n",
       "max       383.000000        0.0       0.0    1707.000000    1148.000000   \n",
       "\n",
       "            NASDelay  SecurityDelay  LateAircraftDelay  \n",
       "count  484551.000000  484551.000000      484551.000000  \n",
       "mean       13.599421       0.082033          26.653587  \n",
       "std        31.454655       1.884774          40.535994  \n",
       "min         0.000000       0.000000           0.000000  \n",
       "25%         0.000000       0.000000           0.000000  \n",
       "50%         1.000000       0.000000          13.000000  \n",
       "75%        13.000000       0.000000          36.000000  \n",
       "max      1357.000000     392.000000        1254.000000  "
      ]
     },
     "execution_count": 49,
     "metadata": {},
     "output_type": "execute_result"
    }
   ],
   "source": [
    "    # No missing values found\n",
    "\n",
    "df.describe()"
   ]
  },
  {
   "cell_type": "code",
   "execution_count": 50,
   "metadata": {},
   "outputs": [
    {
     "data": {
      "text/html": [
       "<div>\n",
       "<style scoped>\n",
       "    .dataframe tbody tr th:only-of-type {\n",
       "        vertical-align: middle;\n",
       "    }\n",
       "\n",
       "    .dataframe tbody tr th {\n",
       "        vertical-align: top;\n",
       "    }\n",
       "\n",
       "    .dataframe thead th {\n",
       "        text-align: right;\n",
       "    }\n",
       "</style>\n",
       "<table border=\"1\" class=\"dataframe\">\n",
       "  <thead>\n",
       "    <tr style=\"text-align: right;\">\n",
       "      <th></th>\n",
       "      <th>DayOfWeek</th>\n",
       "      <th>Date</th>\n",
       "      <th>DepTime</th>\n",
       "      <th>ArrTime</th>\n",
       "      <th>CRSArrTime</th>\n",
       "      <th>UniqueCarrier</th>\n",
       "      <th>Airline</th>\n",
       "      <th>FlightNum</th>\n",
       "      <th>TailNum</th>\n",
       "      <th>ActualElapsedTime</th>\n",
       "      <th>...</th>\n",
       "      <th>TaxiIn</th>\n",
       "      <th>TaxiOut</th>\n",
       "      <th>Cancelled</th>\n",
       "      <th>CancellationCode</th>\n",
       "      <th>Diverted</th>\n",
       "      <th>CarrierDelay</th>\n",
       "      <th>WeatherDelay</th>\n",
       "      <th>NASDelay</th>\n",
       "      <th>SecurityDelay</th>\n",
       "      <th>LateAircraftDelay</th>\n",
       "    </tr>\n",
       "  </thead>\n",
       "  <tbody>\n",
       "    <tr>\n",
       "      <th>0</th>\n",
       "      <td>4</td>\n",
       "      <td>2019-03-01 00:00:00</td>\n",
       "      <td>1829</td>\n",
       "      <td>1959</td>\n",
       "      <td>1925</td>\n",
       "      <td>WN</td>\n",
       "      <td>Southwest Airlines Co.</td>\n",
       "      <td>3920</td>\n",
       "      <td>N464WN</td>\n",
       "      <td>90</td>\n",
       "      <td>...</td>\n",
       "      <td>3</td>\n",
       "      <td>10</td>\n",
       "      <td>0</td>\n",
       "      <td>N</td>\n",
       "      <td>0</td>\n",
       "      <td>2</td>\n",
       "      <td>0</td>\n",
       "      <td>0</td>\n",
       "      <td>0</td>\n",
       "      <td>32</td>\n",
       "    </tr>\n",
       "    <tr>\n",
       "      <th>1</th>\n",
       "      <td>4</td>\n",
       "      <td>2019-03-01 00:00:00</td>\n",
       "      <td>1937</td>\n",
       "      <td>2037</td>\n",
       "      <td>1940</td>\n",
       "      <td>WN</td>\n",
       "      <td>Southwest Airlines Co.</td>\n",
       "      <td>509</td>\n",
       "      <td>N763SW</td>\n",
       "      <td>240</td>\n",
       "      <td>...</td>\n",
       "      <td>3</td>\n",
       "      <td>7</td>\n",
       "      <td>0</td>\n",
       "      <td>N</td>\n",
       "      <td>0</td>\n",
       "      <td>10</td>\n",
       "      <td>0</td>\n",
       "      <td>0</td>\n",
       "      <td>0</td>\n",
       "      <td>47</td>\n",
       "    </tr>\n",
       "    <tr>\n",
       "      <th>2</th>\n",
       "      <td>4</td>\n",
       "      <td>2019-03-01 00:00:00</td>\n",
       "      <td>1644</td>\n",
       "      <td>1845</td>\n",
       "      <td>1725</td>\n",
       "      <td>WN</td>\n",
       "      <td>Southwest Airlines Co.</td>\n",
       "      <td>1333</td>\n",
       "      <td>N334SW</td>\n",
       "      <td>121</td>\n",
       "      <td>...</td>\n",
       "      <td>6</td>\n",
       "      <td>8</td>\n",
       "      <td>0</td>\n",
       "      <td>N</td>\n",
       "      <td>0</td>\n",
       "      <td>8</td>\n",
       "      <td>0</td>\n",
       "      <td>0</td>\n",
       "      <td>0</td>\n",
       "      <td>72</td>\n",
       "    </tr>\n",
       "    <tr>\n",
       "      <th>3</th>\n",
       "      <td>4</td>\n",
       "      <td>2019-03-01 00:00:00</td>\n",
       "      <td>1452</td>\n",
       "      <td>1640</td>\n",
       "      <td>1625</td>\n",
       "      <td>WN</td>\n",
       "      <td>Southwest Airlines Co.</td>\n",
       "      <td>675</td>\n",
       "      <td>N286WN</td>\n",
       "      <td>228</td>\n",
       "      <td>...</td>\n",
       "      <td>7</td>\n",
       "      <td>8</td>\n",
       "      <td>0</td>\n",
       "      <td>N</td>\n",
       "      <td>0</td>\n",
       "      <td>3</td>\n",
       "      <td>0</td>\n",
       "      <td>0</td>\n",
       "      <td>0</td>\n",
       "      <td>12</td>\n",
       "    </tr>\n",
       "    <tr>\n",
       "      <th>4</th>\n",
       "      <td>4</td>\n",
       "      <td>2019-03-01 00:00:00</td>\n",
       "      <td>1323</td>\n",
       "      <td>1526</td>\n",
       "      <td>1510</td>\n",
       "      <td>WN</td>\n",
       "      <td>Southwest Airlines Co.</td>\n",
       "      <td>4</td>\n",
       "      <td>N674AA</td>\n",
       "      <td>123</td>\n",
       "      <td>...</td>\n",
       "      <td>4</td>\n",
       "      <td>9</td>\n",
       "      <td>0</td>\n",
       "      <td>N</td>\n",
       "      <td>0</td>\n",
       "      <td>0</td>\n",
       "      <td>0</td>\n",
       "      <td>0</td>\n",
       "      <td>0</td>\n",
       "      <td>16</td>\n",
       "    </tr>\n",
       "  </tbody>\n",
       "</table>\n",
       "<p>5 rows × 29 columns</p>\n",
       "</div>"
      ],
      "text/plain": [
       "   DayOfWeek                 Date  DepTime  ArrTime  CRSArrTime UniqueCarrier  \\\n",
       "0          4  2019-03-01 00:00:00     1829     1959        1925            WN   \n",
       "1          4  2019-03-01 00:00:00     1937     2037        1940            WN   \n",
       "2          4  2019-03-01 00:00:00     1644     1845        1725            WN   \n",
       "3          4  2019-03-01 00:00:00     1452     1640        1625            WN   \n",
       "4          4  2019-03-01 00:00:00     1323     1526        1510            WN   \n",
       "\n",
       "                  Airline  FlightNum TailNum  ActualElapsedTime  ...  TaxiIn  \\\n",
       "0  Southwest Airlines Co.       3920  N464WN                 90  ...       3   \n",
       "1  Southwest Airlines Co.        509  N763SW                240  ...       3   \n",
       "2  Southwest Airlines Co.       1333  N334SW                121  ...       6   \n",
       "3  Southwest Airlines Co.        675  N286WN                228  ...       7   \n",
       "4  Southwest Airlines Co.          4  N674AA                123  ...       4   \n",
       "\n",
       "   TaxiOut  Cancelled  CancellationCode Diverted CarrierDelay WeatherDelay  \\\n",
       "0       10          0                 N        0            2            0   \n",
       "1        7          0                 N        0           10            0   \n",
       "2        8          0                 N        0            8            0   \n",
       "3        8          0                 N        0            3            0   \n",
       "4        9          0                 N        0            0            0   \n",
       "\n",
       "  NASDelay  SecurityDelay  LateAircraftDelay  \n",
       "0        0              0                 32  \n",
       "1        0              0                 47  \n",
       "2        0              0                 72  \n",
       "3        0              0                 12  \n",
       "4        0              0                 16  \n",
       "\n",
       "[5 rows x 29 columns]"
      ]
     },
     "execution_count": 50,
     "metadata": {},
     "output_type": "execute_result"
    }
   ],
   "source": [
    "df.head()"
   ]
  },
  {
   "cell_type": "markdown",
   "metadata": {},
   "source": [
    "the last four columns refer to components of the delay caused by the four reasons (decide how target variables are going to be calculated), which cannot be sure how they are calculated\n",
    "thus some work needed to be done to understand how they are defined, calculated.\n",
    "\n",
    "### Some primary understanding:\n",
    "- carrier delay: Flight delay due to carrier(e.g. maintenance or crew problems, aircraft cleaning, fueling, etc)\n",
    "- weather delay: Delay due to weather (fogg, rain, wind, snow, etc)\n",
    "- NAS delay: Flight delay by NSA(National Aviation System)\n",
    "- sercurity delay: Delay by security reason\n",
    "- late aircraft delay: cannot assure the meaning yet, first guess is in correlation with flight arrival delay\n",
    "\n",
    "### explanation of some variables\n",
    "| Index | Name | Description | Units |\n",
    "|-------|------|-------------|-------|\n",
    "| 6 | CRSDepTime | scheduled departure time | hhmm |\n",
    "| 8 | CRSArrTime | scheduled arrival time | hhmm |\n",
    "| 7 | FlightNum | Flight identification number assigned by airline | Integer |\n",
    "| 8 | TailNum | Unique aircraft registration number | String |\n",
    "| 9 | ActualElapsedTime | Total actual time from gate departure to gate arrival | Minutes |\n",
    "| 10 | CRSElapsedTime | Scheduled/planned total time from gate departure to gate arrival | Minutes |\n",
    "| 11 | AirTime | Time spent in the air between takeoff and landing | Minutes |\n",
    "| 19 | TaxiIn | Time spent taxiing from landing to gate arrival | Minutes |\n",
    "| 20 | TaxiOut | Time spent taxiing from gate departure to takeoff | Minutes |"
   ]
  },
  {
   "cell_type": "code",
   "execution_count": 51,
   "metadata": {},
   "outputs": [],
   "source": [
    "# first drop columns with no actual values\n",
    "df.drop(['Cancelled', 'Diverted'], axis=1, inplace=True)\n",
    "\n",
    "# columns of flight and tail number is for identification thus no actual meaning in prediction \n",
    "# if considering the serial numbers that reflect the time it flew, the company number reflect, the info is redundant\n",
    "# thus remove\n",
    "df.drop(['FlightNum', 'TailNum'], axis=1, inplace=True)"
   ]
  },
  {
   "cell_type": "markdown",
   "metadata": {},
   "source": [
    "## Main Workflow\n",
    "\n",
    "1. Target Variable\n",
    "- create a new column as the summation of four components to be the overall delay time\n",
    "- classify the delay time into categories to simplify problems, then further make it a binary classification to simplify, we use 45min to seperate heavy and light delay here first (supplementary material in report)  \n",
    "__this can be reasoned via__  \n",
    "__1: regression problem will be computationally heavy due to more information contained naturally in continious variable and performance cannot be assured.__  \n",
    "__2: outcome of classes actually has more diret interpretation in real world application, since each class has their own meaning and correspond to further solutions.__  \n",
    "- try to explain direct relation(some may can be expressed with feature variable term) and interpret. Thus do correlation analysis\n",
    "\n",
    "2. Outliers\n",
    "- visualize numerical features via distribution first, those with highly skewed distribution, if can be explained, then kept, if not, modify\n",
    "- scaling, regularization based on the situation to ensure model performance\n",
    "- Above normal methods seems unefficient under the context that we have many numerical columns while many of them have large probability to have high proportion of outliers (e.g. taxiin time can naturally vary a lot based on airport, time, plane, etc)\n",
    "- Thus, we use some techniques to help detect anomolies\n",
    "\n",
    "3. Time\n",
    "- retreive time from the hhmm(hour+minutes) format\n",
    "- classify these into 3 classes, morning, afternoon, night, since there is domain knowledge to indicate the time slot of flight will influence delay\n",
    "(via weather like fog, crew performance, more experienced machennics tend to work during morning)\n",
    "\n",
    "4. Categorical Features\n",
    "- Time: after classification, one-hot encoding\n",
    "- Day in a Week: Cyclically encoding to imply the cycling property\n",
    "- Airlines: The number of airlines contain too many information, encoding would be extremely computationaly heavy. Thus choose top5 most delay ones \n",
    "- Original& Destination Airports: Same logic to reduce computation burden "
   ]
  },
  {
   "cell_type": "markdown",
   "metadata": {},
   "source": [
    "### However, further considering the possible linear relationship between features and components, the impact of such study may be trivial\n",
    "\n",
    "Converting a continuous target variable into discrete classes inherently loses granularity. Once the target is simplified into three categories, the subtle numeric relationships that might justify modeling a known linear relationship become less meaningful. Moreover, other features and interactions may render the isolated impact of that linear relationship trivial. Modern classification models, especially tree-based or neural methods, can approximate linear, nonlinear, or mixed relationships without explicit guidance. Thus, specifying a linear term for one feature often offers little performance gain and could waste analytic effort. It is generally more practical to treat the feature normally and let the model learn."
   ]
  },
  {
   "cell_type": "code",
   "execution_count": 52,
   "metadata": {},
   "outputs": [
    {
     "name": "stdout",
     "output_type": "stream",
     "text": [
      "OverallDelay\n",
      "Heavy    327767\n",
      "Light    156784\n",
      "Name: count, dtype: int64\n"
     ]
    },
    {
     "data": {
      "text/html": [
       "<div>\n",
       "<style scoped>\n",
       "    .dataframe tbody tr th:only-of-type {\n",
       "        vertical-align: middle;\n",
       "    }\n",
       "\n",
       "    .dataframe tbody tr th {\n",
       "        vertical-align: top;\n",
       "    }\n",
       "\n",
       "    .dataframe thead th {\n",
       "        text-align: right;\n",
       "    }\n",
       "</style>\n",
       "<table border=\"1\" class=\"dataframe\">\n",
       "  <thead>\n",
       "    <tr style=\"text-align: right;\">\n",
       "      <th></th>\n",
       "      <th>DayOfWeek</th>\n",
       "      <th>Date</th>\n",
       "      <th>DepTime</th>\n",
       "      <th>ArrTime</th>\n",
       "      <th>CRSArrTime</th>\n",
       "      <th>UniqueCarrier</th>\n",
       "      <th>Airline</th>\n",
       "      <th>ActualElapsedTime</th>\n",
       "      <th>CRSElapsedTime</th>\n",
       "      <th>AirTime</th>\n",
       "      <th>...</th>\n",
       "      <th>Distance</th>\n",
       "      <th>TaxiIn</th>\n",
       "      <th>TaxiOut</th>\n",
       "      <th>CancellationCode</th>\n",
       "      <th>CarrierDelay</th>\n",
       "      <th>WeatherDelay</th>\n",
       "      <th>NASDelay</th>\n",
       "      <th>SecurityDelay</th>\n",
       "      <th>LateAircraftDelay</th>\n",
       "      <th>OverallDelay</th>\n",
       "    </tr>\n",
       "  </thead>\n",
       "  <tbody>\n",
       "    <tr>\n",
       "      <th>0</th>\n",
       "      <td>4</td>\n",
       "      <td>2019-03-01 00:00:00</td>\n",
       "      <td>1829</td>\n",
       "      <td>1959</td>\n",
       "      <td>1925</td>\n",
       "      <td>WN</td>\n",
       "      <td>Southwest Airlines Co.</td>\n",
       "      <td>90</td>\n",
       "      <td>90</td>\n",
       "      <td>77</td>\n",
       "      <td>...</td>\n",
       "      <td>515</td>\n",
       "      <td>3</td>\n",
       "      <td>10</td>\n",
       "      <td>N</td>\n",
       "      <td>2</td>\n",
       "      <td>0</td>\n",
       "      <td>0</td>\n",
       "      <td>0</td>\n",
       "      <td>32</td>\n",
       "      <td>Heavy</td>\n",
       "    </tr>\n",
       "    <tr>\n",
       "      <th>1</th>\n",
       "      <td>4</td>\n",
       "      <td>2019-03-01 00:00:00</td>\n",
       "      <td>1937</td>\n",
       "      <td>2037</td>\n",
       "      <td>1940</td>\n",
       "      <td>WN</td>\n",
       "      <td>Southwest Airlines Co.</td>\n",
       "      <td>240</td>\n",
       "      <td>250</td>\n",
       "      <td>230</td>\n",
       "      <td>...</td>\n",
       "      <td>1591</td>\n",
       "      <td>3</td>\n",
       "      <td>7</td>\n",
       "      <td>N</td>\n",
       "      <td>10</td>\n",
       "      <td>0</td>\n",
       "      <td>0</td>\n",
       "      <td>0</td>\n",
       "      <td>47</td>\n",
       "      <td>Light</td>\n",
       "    </tr>\n",
       "    <tr>\n",
       "      <th>2</th>\n",
       "      <td>4</td>\n",
       "      <td>2019-03-01 00:00:00</td>\n",
       "      <td>1644</td>\n",
       "      <td>1845</td>\n",
       "      <td>1725</td>\n",
       "      <td>WN</td>\n",
       "      <td>Southwest Airlines Co.</td>\n",
       "      <td>121</td>\n",
       "      <td>135</td>\n",
       "      <td>107</td>\n",
       "      <td>...</td>\n",
       "      <td>828</td>\n",
       "      <td>6</td>\n",
       "      <td>8</td>\n",
       "      <td>N</td>\n",
       "      <td>8</td>\n",
       "      <td>0</td>\n",
       "      <td>0</td>\n",
       "      <td>0</td>\n",
       "      <td>72</td>\n",
       "      <td>Light</td>\n",
       "    </tr>\n",
       "    <tr>\n",
       "      <th>3</th>\n",
       "      <td>4</td>\n",
       "      <td>2019-03-01 00:00:00</td>\n",
       "      <td>1452</td>\n",
       "      <td>1640</td>\n",
       "      <td>1625</td>\n",
       "      <td>WN</td>\n",
       "      <td>Southwest Airlines Co.</td>\n",
       "      <td>228</td>\n",
       "      <td>240</td>\n",
       "      <td>213</td>\n",
       "      <td>...</td>\n",
       "      <td>1489</td>\n",
       "      <td>7</td>\n",
       "      <td>8</td>\n",
       "      <td>N</td>\n",
       "      <td>3</td>\n",
       "      <td>0</td>\n",
       "      <td>0</td>\n",
       "      <td>0</td>\n",
       "      <td>12</td>\n",
       "      <td>Heavy</td>\n",
       "    </tr>\n",
       "    <tr>\n",
       "      <th>4</th>\n",
       "      <td>4</td>\n",
       "      <td>2019-03-01 00:00:00</td>\n",
       "      <td>1323</td>\n",
       "      <td>1526</td>\n",
       "      <td>1510</td>\n",
       "      <td>WN</td>\n",
       "      <td>Southwest Airlines Co.</td>\n",
       "      <td>123</td>\n",
       "      <td>135</td>\n",
       "      <td>110</td>\n",
       "      <td>...</td>\n",
       "      <td>838</td>\n",
       "      <td>4</td>\n",
       "      <td>9</td>\n",
       "      <td>N</td>\n",
       "      <td>0</td>\n",
       "      <td>0</td>\n",
       "      <td>0</td>\n",
       "      <td>0</td>\n",
       "      <td>16</td>\n",
       "      <td>Heavy</td>\n",
       "    </tr>\n",
       "  </tbody>\n",
       "</table>\n",
       "<p>5 rows × 26 columns</p>\n",
       "</div>"
      ],
      "text/plain": [
       "   DayOfWeek                 Date  DepTime  ArrTime  CRSArrTime UniqueCarrier  \\\n",
       "0          4  2019-03-01 00:00:00     1829     1959        1925            WN   \n",
       "1          4  2019-03-01 00:00:00     1937     2037        1940            WN   \n",
       "2          4  2019-03-01 00:00:00     1644     1845        1725            WN   \n",
       "3          4  2019-03-01 00:00:00     1452     1640        1625            WN   \n",
       "4          4  2019-03-01 00:00:00     1323     1526        1510            WN   \n",
       "\n",
       "                  Airline  ActualElapsedTime  CRSElapsedTime  AirTime  ...  \\\n",
       "0  Southwest Airlines Co.                 90              90       77  ...   \n",
       "1  Southwest Airlines Co.                240             250      230  ...   \n",
       "2  Southwest Airlines Co.                121             135      107  ...   \n",
       "3  Southwest Airlines Co.                228             240      213  ...   \n",
       "4  Southwest Airlines Co.                123             135      110  ...   \n",
       "\n",
       "   Distance  TaxiIn TaxiOut CancellationCode CarrierDelay WeatherDelay  \\\n",
       "0       515       3      10                N            2            0   \n",
       "1      1591       3       7                N           10            0   \n",
       "2       828       6       8                N            8            0   \n",
       "3      1489       7       8                N            3            0   \n",
       "4       838       4       9                N            0            0   \n",
       "\n",
       "   NASDelay  SecurityDelay  LateAircraftDelay OverallDelay  \n",
       "0         0              0                 32        Heavy  \n",
       "1         0              0                 47        Light  \n",
       "2         0              0                 72        Light  \n",
       "3         0              0                 12        Heavy  \n",
       "4         0              0                 16        Heavy  \n",
       "\n",
       "[5 rows x 26 columns]"
      ]
     },
     "execution_count": 52,
     "metadata": {},
     "output_type": "execute_result"
    }
   ],
   "source": [
    "# Target Variables\n",
    "\n",
    "df['OverallDelay'] =  df.iloc[:, -4:].sum(axis=1)\n",
    "\n",
    "df['OverallDelay'] = np.select(\n",
    "[\n",
    "    df['OverallDelay'] <= 45,\n",
    "    df['OverallDelay'] > 45\n",
    "],\n",
    "['Heavy', 'Light'], default='unkonwn')\n",
    "\n",
    "print((df['OverallDelay']).value_counts())\n",
    "\n",
    "df.head()"
   ]
  },
  {
   "cell_type": "code",
   "execution_count": 53,
   "metadata": {},
   "outputs": [
    {
     "name": "stdout",
     "output_type": "stream",
     "text": [
      "Boundary with balanced classification: 27.0\n"
     ]
    }
   ],
   "source": [
    "# Seems that the classification result driven by domain standards leads to an imbalanced dataset\n",
    "# thus fit the classification to dataset to be balanced\n",
    "# study the target variable first\n",
    "\n",
    "#reverse the change\n",
    "df['OverallDelay'] =  df.iloc[:, -5:-1].sum(axis=1)\n",
    "\n",
    "print(f\"Boundary with balanced classification: {np.percentile(df['OverallDelay'], 50)}\")"
   ]
  },
  {
   "cell_type": "code",
   "execution_count": 54,
   "metadata": {},
   "outputs": [
    {
     "name": "stdout",
     "output_type": "stream",
     "text": [
      "Quantiles:\n",
      "Q1: 11.00\n",
      "Q2: 27.00\n",
      "Q3: 58.00\n"
     ]
    },
    {
     "data": {
      "image/png": "[encoded data removed]",
      "text/plain": [
       "<Figure size 1000x500 with 1 Axes>"
      ]
     },
     "metadata": {},
     "output_type": "display_data"
    }
   ],
   "source": [
    "# 50/50 split seems to have a not meaningful boundary (little contribution to real world solution)\n",
    "# thus consider make it multiple classification\n",
    "\n",
    "plt.figure(figsize=(10,5))\n",
    "plt.hist(df['OverallDelay'], bins=10, color='blue', edgecolor='black')\n",
    "plt.title('Distrubution of Overall Delay')\n",
    "\n",
    "quantiles = {\n",
    "    'Q1': np.percentile(df['OverallDelay'], 25),\n",
    "    'Q2': np.percentile(df['OverallDelay'], 50),\n",
    "    'Q3': np.percentile(df['OverallDelay'], 75),\n",
    "}\n",
    "print(\"Quantiles:\")\n",
    "for q, val in quantiles.items():\n",
    "    print(f\"{q}: {val:,.2f}\")"
   ]
  },
  {
   "cell_type": "markdown",
   "metadata": {},
   "source": [
    "According to the histogram, there are extreme values rather than highly skewed distribution, and the existance can be explained by scenarios that there are severe issue with plane, passengers, airport, etc.   \n",
    "Thus, we can delete the rows considering they might not influence overall inference of flight delay prediction application  \n",
    "\n",
    "and we will compare with the standard definition in airline field of delay types\n",
    "__to achieve both interpretability and balance in class__\n",
    "\n",
    "### Definitions\n",
    "| **Delay Category**   | **Duration**              |\n",
    "|-----------------------|---------------------------|\n",
    "| **On-Time**          | Less than 15 minutes      |\n",
    "| **Short Delay**       | 15 minutes to 45 minutes |\n",
    "| **Moderate Delay**    | 45 minutes to 2 hours    |\n",
    "| **Significant Delay** | 2 hours to 4 hours       |\n",
    "| **Severe Delay**      | More than 4 hours        |\n",
    "| **Canceled/Diverted** | Flight canceled or diverted |"
   ]
  },
  {
   "cell_type": "code",
   "execution_count": 55,
   "metadata": {},
   "outputs": [
    {
     "name": "stdout",
     "output_type": "stream",
     "text": [
      "Corresponding percentile values:\n",
      "89.0%    101.0\n",
      "90.0%    107.0\n",
      "91.0%    113.0\n",
      "92.0%    119.0\n",
      "93.0%    127.0\n",
      "94.0%    136.0\n",
      "95.0%    146.0\n",
      "96.0%    158.0\n",
      "97.0%    174.0\n",
      "98.0%    197.0\n",
      "99.0%    237.0\n",
      "Name: OverallDelay, dtype: float64\n"
     ]
    }
   ],
   "source": [
    "percentiles = np.arange(90-1, 99+1)\n",
    "values = df['OverallDelay'].quantile(percentiles/100)\n",
    "values = values.sort_values()  \n",
    "values.index = [f'{p:.1f}%' for p in percentiles]\n",
    "print('Corresponding percentile values:')\n",
    "print(values)"
   ]
  },
  {
   "cell_type": "code",
   "execution_count": 56,
   "metadata": {},
   "outputs": [],
   "source": [
    "# 99% is close to 4 hours line, thus delete rows over 240 \n",
    "df = df[df['OverallDelay'] <= 240]"
   ]
  },
  {
   "cell_type": "code",
   "execution_count": 57,
   "metadata": {},
   "outputs": [
    {
     "data": {
      "image/png": "[encoded data removed]",
      "text/plain": [
       "<Figure size 1000x600 with 1 Axes>"
      ]
     },
     "metadata": {},
     "output_type": "display_data"
    }
   ],
   "source": [
    "# then do a visualization of the distribution of classfication following standards\n",
    "\n",
    "custom_bins = [0, 15, 45, 120, 240]\n",
    "bin_labels = ['No', 'Short', 'Moderate', 'Significant']\n",
    "\n",
    "counts, bins = np.histogram(df['OverallDelay'], bins=custom_bins)\n",
    "\n",
    "plt.figure(figsize=(10,6))\n",
    "\n",
    "bars = plt.bar(bin_labels, counts)\n",
    "\n",
    "plt.title('Number of flights in different delay ranges')\n",
    "plt.ylabel('Count')\n",
    "\n",
    "# Add value labels on top of each bar\n",
    "for bar in bars:\n",
    "   height = bar.get_height()\n",
    "   plt.text(bar.get_x() + bar.get_width()/2., height,\n",
    "            f\"Count: {int(height)}\\n({height/len(df['OverallDelay']):.1%})\",\n",
    "            ha='center', va='bottom')\n",
    "   \n",
    "plt.tight_layout()"
   ]
  },
  {
   "cell_type": "code",
   "execution_count": 58,
   "metadata": {},
   "outputs": [
    {
     "data": {
      "text/plain": [
       "DelayClass\n",
       "Short          176216\n",
       "Substantial    152194\n",
       "No             151551\n",
       "Name: count, dtype: int64"
      ]
     },
     "execution_count": 58,
     "metadata": {},
     "output_type": "execute_result"
    }
   ],
   "source": [
    "# review the goal, to achieve both, there is a trade-off: combine the later two classes to be 'substantial delay' class. \n",
    "# Meanwhile, others remain the same\n",
    "# Thus, 3 classes which represent different severvity of delay\n",
    "\n",
    "df['DelayClass'] = np.select(\n",
    "    [\n",
    "        df['OverallDelay'] <= 15,\n",
    "        (df['OverallDelay'] > 15) & (df['OverallDelay'] <= 45),\n",
    "        (df['OverallDelay'] > 45) & (df['OverallDelay'] <= 240)\n",
    "    ],\n",
    "    ['No', 'Short', 'Substantial'],\n",
    "    default='unknown'\n",
    ")\n",
    "\n",
    "df['DelayClass'].value_counts()"
   ]
  },
  {
   "cell_type": "code",
   "execution_count": 59,
   "metadata": {},
   "outputs": [],
   "source": [
    "df = df.drop(['CancellationCode', 'CarrierDelay', 'WeatherDelay', 'NASDelay', 'SecurityDelay', 'LateAircraftDelay'], axis=1) \n",
    "# forgot to do this before"
   ]
  },
  {
   "cell_type": "code",
   "execution_count": 60,
   "metadata": {},
   "outputs": [
    {
     "data": {
      "text/plain": [
       "{'Date': 181,\n",
       " 'UniqueCarrier': 12,\n",
       " 'Airline': 12,\n",
       " 'Origin': 274,\n",
       " 'Org_Airport': 260,\n",
       " 'Dest': 274,\n",
       " 'Dest_Airport': 260,\n",
       " 'DelayClass': 3}"
      ]
     },
     "execution_count": 60,
     "metadata": {},
     "output_type": "execute_result"
    }
   ],
   "source": [
    "distinct_num = {}\n",
    "\n",
    "for col in df.columns:\n",
    "    if df[col].dtype == 'object':\n",
    "        distinct_num[col] = len(df[col].unique())\n",
    "\n",
    "distinct_num"
   ]
  },
  {
   "cell_type": "markdown",
   "metadata": {},
   "source": [
    "### specifically consider the encoding task\n",
    "\n",
    "1. Date: can be retreived to be year+month, since the day of week information has already in the dataframe. __3 years and 12 months__\n",
    "2. Day in week: although using one-hot encoding to add 7 more features may not make computation more complicated, the cyclical property(Sunday is closer to Monday, thus they share features with each other in contribution to prediction), different way should be used.\n",
    "3. Locations & Airports: Too many distinctive values, while other solution will lose information (frequency encoding, target encoding, etc)\n",
    "\n",
    "### Solution\n",
    "#### For locations\n",
    "- S1: note that the number of distinct values in original place and airport equals to each other, thus check whether there is a one-to-one correspondance\n",
    "- S2: if the guess stands, drop redundant rows\n",
    "- S3: Choose top5 original airport(sicne most of the problem arise in original airport) with most number of delays and filter the dataset. __This may make the dataset bias, but the research question is to study the causation of delay, which makes this dataset maybe more effieicnt in some aspect.__\n",
    "- S4: one-hot encoding the locations \n",
    "\n",
    "#### For time\n",
    "- We retreive year and month from the date feature\n",
    "- one-hot encoding for year and cyclicall encoding for month and day in week, achieved by assign cos, sin values (imagine points in a line vector trsansformed into a circle with coordinate)\n",
    "- For departure, arrival time, the format is hhmm, thus retrive first then split into 3 spans:\n",
    "\n",
    "| Slot      | Time Span      |\n",
    "|-----------|----------------|\n",
    "| Morning   | 6AM to 2PM     |\n",
    "| Afternoon | 2PM to 10PM    |\n",
    "| Night     | 10PM to 6AM    |\n",
    "\n",
    "#### For Airline and UniqueCarrier\n",
    "- since the number of unique values are also the same, we can guess whether they are one-to-one correspondance also\n",
    "- If so, drop column, if not, analyze later\n",
    "- After droppping, "
   ]
  },
  {
   "cell_type": "code",
   "execution_count": 61,
   "metadata": {},
   "outputs": [
    {
     "name": "stdout",
     "output_type": "stream",
     "text": [
      "for Origin, the # of cases that exists multiple correspondance: {}\n",
      "for Dest, the # of cases that exists multiple correspondance: {}\n"
     ]
    }
   ],
   "source": [
    "comparison_data = pd.DataFrame({\n",
    "    'Origin': df['Origin'],\n",
    "    'Org_Airport': df['Org_Airport'],\n",
    "    'Dest': df['Dest'],\n",
    "    'Dest_Airport': df['Dest_Airport']\n",
    "})\n",
    "\n",
    "# Define pairs to check\n",
    "pairs = [('Origin', 'Org_Airport'), ('Dest', 'Dest_Airport')]\n",
    "\n",
    "for col1, col2 in pairs:\n",
    "    pairs_data = comparison_data[[col1, col2]].drop_duplicates()\n",
    "    counts = pairs_data.groupby(col1)[col2].count()\n",
    "    violations = counts[counts > 1]\n",
    "    print(f'for {col1}, the # of cases that exists multiple correspondance: {violations.to_dict()}')"
   ]
  },
  {
   "cell_type": "code",
   "execution_count": 62,
   "metadata": {},
   "outputs": [],
   "source": [
    "# now cases violate the one-to-one correspondance are found\n",
    "\n",
    "df = df.drop(['Org_Airport', 'Dest_Airport'], axis=1)"
   ]
  },
  {
   "cell_type": "code",
   "execution_count": 63,
   "metadata": {},
   "outputs": [
    {
     "name": "stdout",
     "output_type": "stream",
     "text": [
      "shape after filtering: (148568, 19)\n",
      "each class after filters: DelayClass\n",
      "No             57021\n",
      "Short          49027\n",
      "Substantial    42520\n",
      "Name: count, dtype: int64\n"
     ]
    }
   ],
   "source": [
    "# filter the dataset\n",
    "\n",
    "counts = df['Origin'].value_counts()\n",
    "counts = counts.sort_values(ascending=False)\n",
    "counts = counts.to_dict()\n",
    "name = list(counts.keys())[:5]\n",
    "\n",
    "# filter dataframe and output\n",
    "df = df[df['Origin'].isin(name)]\n",
    "print(f'shape after filtering: {df.shape}')  \n",
    "\n",
    "print(f\"each class after filters: {df['DelayClass'].value_counts()}\")"
   ]
  },
  {
   "cell_type": "code",
   "execution_count": 64,
   "metadata": {},
   "outputs": [
    {
     "data": {
      "text/plain": [
       "Origin\n",
       "ORD    46516\n",
       "DFW    32824\n",
       "ATL    28660\n",
       "DEN    23445\n",
       "LAX    17123\n",
       "Name: count, dtype: int64"
      ]
     },
     "execution_count": 64,
     "metadata": {},
     "output_type": "execute_result"
    }
   ],
   "source": [
    "df['Origin'].value_counts()"
   ]
  },
  {
   "cell_type": "code",
   "execution_count": 65,
   "metadata": {},
   "outputs": [],
   "source": [
    "# the dataset still seems balanced, thus no need to further concetn the balance/ classification standards\n",
    "# encoding the location\n",
    "\n",
    "from sklearn.preprocessing import OneHotEncoder\n",
    "\n",
    "Origin_data = df['Origin'].values.reshape(-1, 1)\n",
    "\n",
    "encoder = OneHotEncoder(sparse_output=False)  # older version of sklearn does not support sparse\n",
    "Origin_encoded = encoder.fit_transform(Origin_data)\n",
    "\n",
    "encoded_cols = pd.DataFrame(\n",
    "    Origin_encoded,\n",
    "    columns=[f\"Origin_{cat}\" for cat in encoder.categories_[0]]\n",
    ")\n",
    "\n",
    "# df = pd.concat([df.drop('Origin', axis=1), encoded_cols], axis=1)\n",
    "# here when use this command directly, the indices do not align and cause large amount of NAN values\n",
    "# seen later the shape of the dataframe is the same"
   ]
  },
  {
   "cell_type": "code",
   "execution_count": 66,
   "metadata": {},
   "outputs": [
    {
     "name": "stdout",
     "output_type": "stream",
     "text": [
      "(148568, 19)\n",
      "(148568, 5)\n"
     ]
    }
   ],
   "source": [
    "print(df.shape)\n",
    "print(encoded_cols.shape)"
   ]
  },
  {
   "cell_type": "code",
   "execution_count": 67,
   "metadata": {},
   "outputs": [
    {
     "data": {
      "text/plain": [
       "False"
      ]
     },
     "execution_count": 67,
     "metadata": {},
     "output_type": "execute_result"
    }
   ],
   "source": [
    "df.index.equals(encoded_cols.index)"
   ]
  },
  {
   "cell_type": "code",
   "execution_count": 68,
   "metadata": {},
   "outputs": [
    {
     "data": {
      "text/plain": [
       "Index([148568, 148569, 148570, 148571, 148572, 148573, 148574, 148575, 148581,\n",
       "       148582,\n",
       "       ...\n",
       "       484541, 484542, 484543, 484544, 484545, 484546, 484547, 484548, 484549,\n",
       "       484550],\n",
       "      dtype='int64', length=106087)"
      ]
     },
     "execution_count": 68,
     "metadata": {},
     "output_type": "execute_result"
    }
   ],
   "source": [
    "df.index.difference(encoded_cols.index)"
   ]
  },
  {
   "cell_type": "code",
   "execution_count": 69,
   "metadata": {},
   "outputs": [
    {
     "data": {
      "text/plain": [
       "0"
      ]
     },
     "execution_count": 69,
     "metadata": {},
     "output_type": "execute_result"
    }
   ],
   "source": [
    "# align the index\n",
    "\n",
    "encoded_cols.index = df.index\n",
    "df = pd.concat([df.drop('Origin', axis=1), encoded_cols], axis=1)\n",
    "\n",
    "df['Origin_LAX'].isnull().sum()"
   ]
  },
  {
   "cell_type": "code",
   "execution_count": 70,
   "metadata": {},
   "outputs": [],
   "source": [
    "# For destination location, there will be solution that aggregate them via region (northwestern, southwestern, etc.) via Internet searching/ sementic analysis\n",
    "# However, due to time limitation of the project, this will leave blank. \n",
    "# We'll drop the column instead for now\n",
    "# some of the potential effect like distance is reflected in other features. \n",
    "\n",
    "df = df.drop('Dest', axis=1)"
   ]
  },
  {
   "cell_type": "code",
   "execution_count": 71,
   "metadata": {},
   "outputs": [
    {
     "name": "stdout",
     "output_type": "stream",
     "text": [
      "Caught an error: time data \"13-01-2019\" doesn't match format \"%Y-%m-%d %H:%M:%S\", at position 10. You might want to try:\n",
      "    - passing `format` if your strings have a consistent format;\n",
      "    - passing `format='ISO8601'` if your strings are all ISO8601 but not necessarily in exactly the same format;\n",
      "    - passing `format='mixed'`, and the format will be inferred for each element individually. You might want to use `dayfirst` alongside this.\n"
     ]
    }
   ],
   "source": [
    "# time\n",
    "\n",
    "try:\n",
    "    ate = pd.to_datetime(df['Date'])\n",
    "except ValueError as e:\n",
    "    print(\"Caught an error:\", e)"
   ]
  },
  {
   "cell_type": "code",
   "execution_count": 72,
   "metadata": {},
   "outputs": [
    {
     "name": "stdout",
     "output_type": "stream",
     "text": [
      "6412     13-01-2019\n",
      "6413     13-01-2019\n",
      "6414     13-01-2019\n",
      "6509     13-01-2019\n",
      "6510     13-01-2019\n",
      "            ...    \n",
      "87781    13-01-2019\n",
      "87782    13-01-2019\n",
      "87783    13-01-2019\n",
      "87787    13-01-2019\n",
      "87788    13-01-2019\n",
      "Name: Date, Length: 502, dtype: object\n"
     ]
    }
   ],
   "source": [
    "# with error message, the format in Date column is not consistent and some are wrong for to_datetime\n",
    "\n",
    "print(df['Date'][df['Date'].astype(str).str.contains('13-01-2019', na=False)])"
   ]
  },
  {
   "cell_type": "markdown",
   "metadata": {},
   "source": [
    "After further review the dataset, the format of time is indeed mixing  \n",
    "as can be observed, there are following format:  \n",
    "\n",
    "| Original Date         |\n",
    "|-----------------------|\n",
    "| 2019-01-01 00:00:00  |\n",
    "| 17-01-2019           |\n",
    "\n",
    "\n",
    "thus, there are two ways to solve:  \n",
    "1. use to_datetme/ time.strptime to convert the format, however, since we are not sure the list of all possible formats, this is not a good solution\n",
    "2. use text split to retreive the elements in different order for different format, then identify\n"
   ]
  },
  {
   "cell_type": "code",
   "execution_count": 73,
   "metadata": {},
   "outputs": [
    {
     "name": "stdout",
     "output_type": "stream",
     "text": [
      "The distinct values in:\n",
      "Year:\n",
      "Year\n",
      "2019    148568\n",
      "Name: count, dtype: int64\n",
      "\n",
      "Month:\n",
      "Month\n",
      "03    23186\n",
      "01    22174\n",
      "06    20708\n",
      "02    20112\n",
      "05    17296\n",
      "04    16668\n",
      "07     5624\n",
      "08     5093\n",
      "10     4704\n",
      "11     4695\n",
      "09     4504\n",
      "12     3804\n",
      "Name: count, dtype: int64\n"
     ]
    }
   ],
   "source": [
    "'''\n",
    "import re\n",
    "\n",
    "for date in df['Date']:\n",
    "    date_split = re.split('[-:]', date)\n",
    "    if len(date_split[0]) == 4:\n",
    "        df['Year'] = date_split[0]\n",
    "        df['Month'] = date_split[1]\n",
    "    else: \n",
    "        if len(date_split[0]) == 2:\n",
    "            df['Year'] = date_split[2]\n",
    "            df['Month'] = date_split[1]\n",
    "        else:\n",
    "            print(f'New format found: {date}')\n",
    "''' # Use for loop to iterate and identify the format. However, maybe computationally expensive with large dataset\n",
    "\n",
    "date_split = df['Date'].str.split('[-:]', expand=True)\n",
    "\n",
    "df['Year'] = np.where(date_split[0].str.len() == 4,\n",
    "                        date_split[0],\n",
    "                        date_split[2])\n",
    "df['Month'] = date_split[1]\n",
    "\n",
    "print(f'The distinct values in:\\nYear:\\n{df[\"Year\"].value_counts()}\\n\\nMonth:\\n{df[\"Month\"].value_counts()}')"
   ]
  },
  {
   "cell_type": "code",
   "execution_count": 74,
   "metadata": {},
   "outputs": [
    {
     "name": "stdout",
     "output_type": "stream",
     "text": [
      "0\n",
      "0\n",
      "[4 5 6 7 1 2 3]\n",
      "['03' '04' '05' '06' '07' '08' '09' '10' '11' '12' '01' '02']\n"
     ]
    }
   ],
   "source": [
    "# recall the concatonation before, there was an issue of generating NAN values due to disalignment of indices\n",
    "# check here again\n",
    "\n",
    "print(df['DayOfWeek'].isna().sum())  \n",
    "print(df['Month'].isna().sum())     \n",
    "\n",
    "print(df['DayOfWeek'].unique())\n",
    "print(df['Month'].unique())"
   ]
  },
  {
   "cell_type": "code",
   "execution_count": 75,
   "metadata": {},
   "outputs": [],
   "source": [
    "df.to_csv('df_preocessed.csv', index=False) # can save it into a file for better visualization\n",
    "# Check the work so far"
   ]
  },
  {
   "cell_type": "code",
   "execution_count": 76,
   "metadata": {},
   "outputs": [
    {
     "data": {
      "text/plain": [
       "(148568, 24)"
      ]
     },
     "execution_count": 76,
     "metadata": {},
     "output_type": "execute_result"
    }
   ],
   "source": [
    "df = df.dropna(how='any')\n",
    "df.shape"
   ]
  },
  {
   "cell_type": "code",
   "execution_count": 77,
   "metadata": {},
   "outputs": [
    {
     "name": "stdout",
     "output_type": "stream",
     "text": [
      "Index(['DepTime', 'ArrTime', 'CRSArrTime', 'UniqueCarrier', 'Airline',\n",
      "       'ActualElapsedTime', 'CRSElapsedTime', 'AirTime', 'ArrDelay',\n",
      "       'DepDelay', 'Distance', 'TaxiIn', 'TaxiOut', 'OverallDelay',\n",
      "       'DelayClass', 'Origin_ATL', 'Origin_DEN', 'Origin_DFW', 'Origin_LAX',\n",
      "       'Origin_ORD', 'DayOfWeek_sin', 'DayOfWeek_cos', 'Month_sin',\n",
      "       'Month_cos'],\n",
      "      dtype='object')\n"
     ]
    }
   ],
   "source": [
    "# it can be seen that there is only one year, thus drop the original Date column and the year column\n",
    "\n",
    "df = df.drop(['Date', 'Year'], axis=1)\n",
    "\n",
    "# encoding the day and month columns\n",
    "\n",
    "def encoding(df, col_name):\n",
    "    \n",
    "    for col in col_name:\n",
    "        max_val = df[col].astype(int).max()\n",
    "\n",
    "        df[f'{col}_sin'] = np.sin(np.pi*df[col].astype(float)/max_val)\n",
    "        df[f'{col}_cos'] = np.cos(np.pi*df[col].astype(float)/max_val)\n",
    "\n",
    "    df.drop(col_name, axis=1, inplace=True)\n",
    "\n",
    "    return df\n",
    "\n",
    "df = encoding(df, ['DayOfWeek', 'Month'])\n",
    "\n",
    "print(df.columns)"
   ]
  },
  {
   "cell_type": "code",
   "execution_count": 78,
   "metadata": {},
   "outputs": [
    {
     "name": "stdout",
     "output_type": "stream",
     "text": [
      "\n",
      "Value counts for DepTime:\n",
      "DepTime\n",
      "Afternoon    60014\n",
      "Night        49503\n",
      "Morning      39051\n",
      "Name: count, dtype: int64\n",
      "\n",
      "Value counts for ArrTime:\n",
      "ArrTime\n",
      "Night        71972\n",
      "Afternoon    55573\n",
      "Morning      21023\n",
      "Name: count, dtype: int64\n",
      "\n",
      "Value counts for CRSArrTime:\n",
      "CRSArrTime\n",
      "Night        62443\n",
      "Afternoon    58541\n",
      "Morning      27584\n",
      "Name: count, dtype: int64\n"
     ]
    }
   ],
   "source": [
    "# Split Arrival and Departure time into time slot during a day\n",
    "\n",
    "time_names = ['DepTime', 'ArrTime', 'CRSArrTime']\n",
    "\n",
    "for time_col in time_names:\n",
    "        # Create\n",
    "        slot_col = f'{time_col}'\n",
    "        # Convert\n",
    "        hours = df[time_col].astype(str).str.zfill(4).str[:2].astype(int)\n",
    "        \n",
    "        # Initialize the slot column with 'Night'\n",
    "        df[slot_col] = 'Night'\n",
    "        \n",
    "        morning_mask = (hours > 6) & (hours <= 12)\n",
    "        df.loc[morning_mask, slot_col] = 'Morning'\n",
    "    \n",
    "        afternoon_mask = (hours > 12) & (hours <= 18)\n",
    "        df.loc[afternoon_mask, slot_col] = 'Afternoon'\n",
    "\n",
    "for col in time_names:\n",
    "    print(f\"\\nValue counts for {col}:\")\n",
    "    print(df[col].value_counts())"
   ]
  },
  {
   "cell_type": "code",
   "execution_count": 79,
   "metadata": {},
   "outputs": [],
   "source": [
    "# encoding\n",
    "\n",
    "encoder = OneHotEncoder(sparse_output=False, handle_unknown='ignore')\n",
    "\n",
    "encoded_array = encoder.fit_transform(df[time_names])\n",
    "\n",
    "encoded_col_names = []\n",
    "for col, cats in zip(time_names, encoder.categories_):\n",
    "    encoded_col_names.extend([f\"{col}_{cat}\" for cat in cats])\n",
    "\n",
    "# Create a DataFrame for the encoded features\n",
    "encoded_df = pd.DataFrame(encoded_array, columns=encoded_col_names, index=df.index)\n",
    "\n",
    "# Drop the original categorical columns and concatenate the new encoded columns\n",
    "df = pd.concat([df.drop(time_names, axis=1), encoded_df], axis=1)"
   ]
  },
  {
   "cell_type": "code",
   "execution_count": 80,
   "metadata": {},
   "outputs": [
    {
     "data": {
      "text/plain": [
       "Index(['UniqueCarrier', 'Airline', 'ActualElapsedTime', 'CRSElapsedTime',\n",
       "       'AirTime', 'ArrDelay', 'DepDelay', 'Distance', 'TaxiIn', 'TaxiOut',\n",
       "       'OverallDelay', 'DelayClass', 'Origin_ATL', 'Origin_DEN', 'Origin_DFW',\n",
       "       'Origin_LAX', 'Origin_ORD', 'DayOfWeek_sin', 'DayOfWeek_cos',\n",
       "       'Month_sin', 'Month_cos', 'DepTime_Afternoon', 'DepTime_Morning',\n",
       "       'DepTime_Night', 'ArrTime_Afternoon', 'ArrTime_Morning',\n",
       "       'ArrTime_Night', 'CRSArrTime_Afternoon', 'CRSArrTime_Morning',\n",
       "       'CRSArrTime_Night'],\n",
       "      dtype='object')"
      ]
     },
     "execution_count": 80,
     "metadata": {},
     "output_type": "execute_result"
    }
   ],
   "source": [
    "df.columns"
   ]
  },
  {
   "cell_type": "code",
   "execution_count": 81,
   "metadata": {},
   "outputs": [
    {
     "name": "stdout",
     "output_type": "stream",
     "text": [
      "For Airline, the # of cases that exists multiple correspondance: {}\n"
     ]
    }
   ],
   "source": [
    "# For Airline and UniqueCarrier\n",
    "\n",
    "pair = ['Airline', 'UniqueCarrier']\n",
    "\n",
    "col1, col2 = pair\n",
    "comparison_data = df[list(pair)].drop_duplicates()\n",
    "\n",
    "counts = comparison_data.groupby(col1)[col2].count()\n",
    "\n",
    "violations = counts[counts>1]\n",
    "\n",
    "print(f'For {col1}, the # of cases that exists multiple correspondance: {violations.to_dict()}')"
   ]
  },
  {
   "cell_type": "code",
   "execution_count": 82,
   "metadata": {},
   "outputs": [],
   "source": [
    "# since assumption is satisfied, drop the UniqueCarrier column\n",
    "\n",
    "df = df.drop('UniqueCarrier', axis=1)"
   ]
  },
  {
   "cell_type": "code",
   "execution_count": 83,
   "metadata": {},
   "outputs": [
    {
     "data": {
      "text/plain": [
       "(148568, 40)"
      ]
     },
     "execution_count": 83,
     "metadata": {},
     "output_type": "execute_result"
    }
   ],
   "source": [
    "# we have 30 features now, if one-hot encoding all the airlines, the number of feature will be large a little bit. \n",
    "# However, since we are going to cut the features with random forest later, we can do this here to maintaion data integrity\n",
    "\n",
    "encoder = OneHotEncoder(sparse_output=False, handle_unknown='ignore')\n",
    "\n",
    "airline_data =  df['Airline'].values.reshape(-1,1)\n",
    "encoded_airline = encoder.fit_transform(airline_data)\\\n",
    "\n",
    "encoded_cols = pd.DataFrame(encoded_airline, columns=[f'Airline_{cat}' for cat in encoder.categories_[0]], index=df.index)\n",
    "\n",
    "df = pd.concat([df.drop('Airline', axis=1), encoded_cols], axis=1)\n",
    "\n",
    "df.shape"
   ]
  },
  {
   "cell_type": "code",
   "execution_count": 84,
   "metadata": {},
   "outputs": [
    {
     "name": "stdout",
     "output_type": "stream",
     "text": [
      "<class 'pandas.core.frame.DataFrame'>\n",
      "Index: 148568 entries, 158 to 484550\n",
      "Data columns (total 40 columns):\n",
      " #   Column                                Non-Null Count   Dtype  \n",
      "---  ------                                --------------   -----  \n",
      " 0   ActualElapsedTime                     148568 non-null  int64  \n",
      " 1   CRSElapsedTime                        148568 non-null  int64  \n",
      " 2   AirTime                               148568 non-null  int64  \n",
      " 3   ArrDelay                              148568 non-null  int64  \n",
      " 4   DepDelay                              148568 non-null  int64  \n",
      " 5   Distance                              148568 non-null  int64  \n",
      " 6   TaxiIn                                148568 non-null  int64  \n",
      " 7   TaxiOut                               148568 non-null  int64  \n",
      " 8   OverallDelay                          148568 non-null  int64  \n",
      " 9   DelayClass                            148568 non-null  object \n",
      " 10  Origin_ATL                            148568 non-null  float64\n",
      " 11  Origin_DEN                            148568 non-null  float64\n",
      " 12  Origin_DFW                            148568 non-null  float64\n",
      " 13  Origin_LAX                            148568 non-null  float64\n",
      " 14  Origin_ORD                            148568 non-null  float64\n",
      " 15  DayOfWeek_sin                         148568 non-null  float64\n",
      " 16  DayOfWeek_cos                         148568 non-null  float64\n",
      " 17  Month_sin                             148568 non-null  float64\n",
      " 18  Month_cos                             148568 non-null  float64\n",
      " 19  DepTime_Afternoon                     148568 non-null  float64\n",
      " 20  DepTime_Morning                       148568 non-null  float64\n",
      " 21  DepTime_Night                         148568 non-null  float64\n",
      " 22  ArrTime_Afternoon                     148568 non-null  float64\n",
      " 23  ArrTime_Morning                       148568 non-null  float64\n",
      " 24  ArrTime_Night                         148568 non-null  float64\n",
      " 25  CRSArrTime_Afternoon                  148568 non-null  float64\n",
      " 26  CRSArrTime_Morning                    148568 non-null  float64\n",
      " 27  CRSArrTime_Night                      148568 non-null  float64\n",
      " 28  Airline_Alaska Airlines Inc.          148568 non-null  float64\n",
      " 29  Airline_American Airlines Inc.        148568 non-null  float64\n",
      " 30  Airline_American Eagle Airlines Inc.  148568 non-null  float64\n",
      " 31  Airline_Atlantic Southeast Airlines   148568 non-null  float64\n",
      " 32  Airline_Delta Air Lines Inc.          148568 non-null  float64\n",
      " 33  Airline_Frontier Airlines Inc.        148568 non-null  float64\n",
      " 34  Airline_Hawaiian Airlines Inc.        148568 non-null  float64\n",
      " 35  Airline_JetBlue Airways               148568 non-null  float64\n",
      " 36  Airline_Skywest Airlines Inc.         148568 non-null  float64\n",
      " 37  Airline_Southwest Airlines Co.        148568 non-null  float64\n",
      " 38  Airline_US Airways Inc.               148568 non-null  float64\n",
      " 39  Airline_United Air Lines Inc.         148568 non-null  float64\n",
      "dtypes: float64(30), int64(9), object(1)\n",
      "memory usage: 50.5+ MB\n"
     ]
    }
   ],
   "source": [
    "df.info() # seems good, only delay class is the categorical variable"
   ]
  },
  {
   "cell_type": "markdown",
   "metadata": {},
   "source": [
    "## Later Work\n",
    "\n",
    "Now since some work has been doen to convert the dataset into a numerical, encoded form, later work can be conducted.  \n",
    "However, the outlier issue has not been addressed. To maintain easiness of reading and streamline operation, the anomoly detection is set to use different .ipynb file.  \n",
    "Here, work is reserved by saving to a .csv file"
   ]
  },
  {
   "cell_type": "code",
   "execution_count": 85,
   "metadata": {},
   "outputs": [],
   "source": [
    "df['DelayClass'] = df.pop('DelayClass') # arrange a little bit\n",
    "df.drop('OverallDelay', axis=1, inplace=True)\n",
    "\n",
    "df.to_csv('df_preprocessed2.csv', index=False) "
   ]
  }
 ],
 "metadata": {
  "kernelspec": {
   "display_name": "CV_env",
   "language": "python",
   "name": "python3"
  },
  "language_info": {
   "codemirror_mode": {
    "name": "ipython",
    "version": 3
   },
   "file_extension": ".py",
   "mimetype": "text/x-python",
   "name": "python",
   "nbconvert_exporter": "python",
   "pygments_lexer": "ipython3",
   "version": "3.9.19"
  }
 },
 "nbformat": 4,
 "nbformat_minor": 2
}
